{
 "cells": [
  {
   "cell_type": "code",
   "execution_count": 2,
   "metadata": {},
   "outputs": [
    {
     "name": "stdout",
     "output_type": "stream",
     "text": [
      "DatasetDict({\n",
      "    train: Dataset({\n",
      "        features: ['image', 'label'],\n",
      "        num_rows: 1002\n",
      "    })\n",
      "})\n",
      "Dataset saved with resized images! Train: 1002 images\n"
     ]
    }
   ],
   "source": [
    "from datasets import load_dataset\n",
    "import os\n",
    "from PIL import Image\n",
    "\n",
    "# Load dataset\n",
    "ds = load_dataset(\"satyamtripathii/Ghibli_Anime\")\n",
    "\n",
    "# Check available splits\n",
    "print(ds)  # This will show if \"test\" exists or not\n",
    "\n",
    "# Define paths\n",
    "base_path = \"dataset/ghibli\"\n",
    "train_path = os.path.join(base_path, \"train\")\n",
    "\n",
    "# Create directories\n",
    "os.makedirs(train_path, exist_ok=True)\n",
    "\n",
    "# Function to save and resize images\n",
    "def save_images(dataset, folder, img_size=(512, 512)):\n",
    "    for i, data in enumerate(dataset):\n",
    "        image = data[\"image\"]\n",
    "        image = image.resize(img_size, Image.LANCZOS)  # Resize\n",
    "        image = image.convert(\"RGB\")  # Convert to RGB for JPEG compatibility\n",
    "        image_path = os.path.join(folder, f\"ghibli_{i:04d}.jpg\")\n",
    "        image.save(image_path, \"JPEG\")\n",
    "\n",
    "# Save train images\n",
    "save_images(ds[\"train\"], train_path)\n",
    "\n",
    "print(f\"Dataset saved with resized images! Train: {len(ds['train'])} images\")\n"
   ]
  },
  {
   "cell_type": "code",
   "execution_count": 3,
   "metadata": {},
   "outputs": [
    {
     "name": "stdout",
     "output_type": "stream",
     "text": [
      "c:\\Users\\HP\\Desktop\\AnimeArtTransfer\\AnimeGANv2\n"
     ]
    },
    {
     "name": "stderr",
     "output_type": "stream",
     "text": [
      "Cloning into 'AnimeGANv2'...\n",
      "Updating files:  15% (50/322)\n",
      "Updating files:  16% (52/322)\n",
      "Updating files:  17% (55/322)\n",
      "Updating files:  18% (58/322)\n",
      "Updating files:  19% (62/322)\n",
      "Updating files:  20% (65/322)\n",
      "Updating files:  21% (68/322)\n",
      "Updating files:  22% (71/322)\n",
      "Updating files:  23% (75/322)\n",
      "Updating files:  24% (78/322)\n",
      "Updating files:  25% (81/322)\n",
      "Updating files:  26% (84/322)\n",
      "Updating files:  27% (87/322)\n",
      "Updating files:  28% (91/322)\n",
      "Updating files:  29% (94/322)\n",
      "Updating files:  30% (97/322)\n",
      "Updating files:  31% (100/322)\n",
      "Updating files:  32% (104/322)\n",
      "Updating files:  33% (107/322)\n",
      "Updating files:  34% (110/322)\n",
      "Updating files:  35% (113/322)\n",
      "Updating files:  36% (116/322)\n",
      "Updating files:  37% (120/322)\n",
      "Updating files:  38% (123/322)\n",
      "Updating files:  39% (126/322)\n",
      "Updating files:  40% (129/322)\n",
      "Updating files:  41% (133/322)\n",
      "Updating files:  42% (136/322)\n",
      "Updating files:  43% (139/322)\n",
      "Updating files:  44% (142/322)\n",
      "Updating files:  45% (145/322)\n",
      "Updating files:  46% (149/322)\n",
      "Updating files:  47% (152/322)\n",
      "Updating files:  48% (155/322)\n",
      "Updating files:  49% (158/322)\n",
      "Updating files:  50% (161/322)\n",
      "Updating files:  51% (165/322)\n",
      "Updating files:  52% (168/322)\n",
      "Updating files:  53% (171/322)\n",
      "Updating files:  54% (174/322)\n",
      "Updating files:  55% (178/322)\n",
      "Updating files:  56% (181/322)\n",
      "Updating files:  57% (184/322)\n",
      "Updating files:  58% (187/322)\n",
      "Updating files:  59% (190/322)\n",
      "Updating files:  60% (194/322)\n",
      "Updating files:  61% (197/322)\n",
      "Updating files:  62% (200/322)\n",
      "Updating files:  62% (201/322)\n",
      "Updating files:  63% (203/322)\n",
      "Updating files:  64% (207/322)\n",
      "Updating files:  65% (210/322)\n",
      "Updating files:  66% (213/322)\n",
      "Updating files:  67% (216/322)\n",
      "Updating files:  68% (219/322)\n",
      "Updating files:  69% (223/322)\n",
      "Updating files:  70% (226/322)\n",
      "Updating files:  71% (229/322)\n",
      "Updating files:  72% (232/322)\n",
      "Updating files:  73% (236/322)\n",
      "Updating files:  74% (239/322)\n",
      "Updating files:  75% (242/322)\n",
      "Updating files:  76% (245/322)\n",
      "Updating files:  77% (248/322)\n",
      "Updating files:  78% (252/322)\n",
      "Updating files:  79% (255/322)\n",
      "Updating files:  80% (258/322)\n",
      "Updating files:  81% (261/322)\n",
      "Updating files:  82% (265/322)\n",
      "Updating files:  83% (268/322)\n",
      "Updating files:  83% (269/322)\n",
      "Updating files:  84% (271/322)\n",
      "Updating files:  85% (274/322)\n",
      "Updating files:  86% (277/322)\n",
      "Updating files:  87% (281/322)\n",
      "Updating files:  88% (284/322)\n",
      "Updating files:  89% (287/322)\n",
      "Updating files:  90% (290/322)\n",
      "Updating files:  91% (294/322)\n",
      "Updating files:  92% (297/322)\n",
      "Updating files:  93% (300/322)\n",
      "Updating files:  94% (303/322)\n",
      "Updating files:  95% (306/322)\n",
      "Updating files:  96% (310/322)\n",
      "Updating files:  97% (313/322)\n",
      "Updating files:  98% (316/322)\n",
      "Updating files:  99% (319/322)\n",
      "Updating files: 100% (322/322)\n",
      "Updating files: 100% (322/322), done.\n",
      "C:\\Users\\HP\\AppData\\Roaming\\Python\\Python310\\site-packages\\IPython\\core\\magics\\osm.py:417: UserWarning: This is now an optional IPython functionality, setting dhist requires you to install the `pickleshare` library.\n",
      "  self.shell.db['dhist'] = compress_dhist(dhist)[-100:]\n"
     ]
    }
   ],
   "source": [
    "!git clone https://github.com/TachibanaYoshino/AnimeGANv2.git\n",
    "%cd AnimeGANv2\n"
   ]
  },
  {
   "cell_type": "code",
   "execution_count": 8,
   "metadata": {},
   "outputs": [
    {
     "name": "stderr",
     "output_type": "stream",
     "text": [
      "Error processing line 1 of c:\\Users\\HP\\AppData\\Local\\Programs\\Python\\Python310\\lib\\site-packages\\vision-1.0.0-py3.10-nspkg.pth:\n",
      "\n",
      "  Traceback (most recent call last):\n",
      "    File \"c:\\Users\\HP\\AppData\\Local\\Programs\\Python\\Python310\\lib\\site.py\", line 186, in addpackage\n",
      "      exec(line)\n",
      "    File \"<string>\", line 1, in <module>\n",
      "    File \"<frozen importlib._bootstrap>\", line 568, in module_from_spec\n",
      "  AttributeError: 'NoneType' object has no attribute 'loader'\n",
      "\n",
      "Remainder of file ignored\n",
      "2025-03-29 14:31:52.079723: I tensorflow/core/util/port.cc:153] oneDNN custom operations are on. You may see slightly different numerical results due to floating-point round-off errors from different computation orders. To turn them off, set the environment variable `TF_ENABLE_ONEDNN_OPTS=0`.\n",
      "2025-03-29 14:31:53.741732: I tensorflow/core/util/port.cc:153] oneDNN custom operations are on. You may see slightly different numerical results due to floating-point round-off errors from different computation orders. To turn them off, set the environment variable `TF_ENABLE_ONEDNN_OPTS=0`.\n"
     ]
    }
   ],
   "source": [
    "!python train.py --dataset ghibli --epoch 100 --batch_size 4 \\\n",
    "                 --img_size 512 --checkpoint_dir checkpoints/ghibli \\\n",
    "                 --log_dir logs/ghibli --sample_dir samples/ghibli\n"
   ]
  },
  {
   "cell_type": "markdown",
   "metadata": {},
   "source": []
  }
 ],
 "metadata": {
  "kernelspec": {
   "display_name": "Python 3",
   "language": "python",
   "name": "python3"
  },
  "language_info": {
   "codemirror_mode": {
    "name": "ipython",
    "version": 3
   },
   "file_extension": ".py",
   "mimetype": "text/x-python",
   "name": "python",
   "nbconvert_exporter": "python",
   "pygments_lexer": "ipython3",
   "version": "3.10.0"
  }
 },
 "nbformat": 4,
 "nbformat_minor": 2
}
